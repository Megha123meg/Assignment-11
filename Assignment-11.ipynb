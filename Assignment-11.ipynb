{
 "cells": [
  {
   "cell_type": "markdown",
   "id": "6c604f98",
   "metadata": {},
   "source": [
    "1. What is the role of the 'else' block in a try-except statement? Provide an example scenario where it would be useful.\n",
    "A:In a try-except statement, the 'else' block is an optional component that can be included after the 'try' block and before the 'except' block. Its purpose is to define a section of code that should be executed if no exceptions are raised in the 'try' block.\n",
    "\n",
    "The general structure of a try-except-else statement is as follows:"
   ]
  },
  {
   "cell_type": "code",
   "execution_count": null,
   "id": "daeeb037",
   "metadata": {},
   "outputs": [],
   "source": [
    "try:\n",
    "    # Code that may raise an exception\n",
    "except ExceptionType:\n",
    "    # Code to handle the exception\n",
    "else:\n",
    "    # Code to be executed if no exception occurs"
   ]
  },
  {
   "cell_type": "markdown",
   "id": "116ea712",
   "metadata": {},
   "source": [
    "Here's an example scenario where the 'else' block can be useful:"
   ]
  },
  {
   "cell_type": "code",
   "execution_count": 9,
   "id": "6773283c",
   "metadata": {},
   "outputs": [],
   "source": [
    "def divide_numbers(a,b):\n",
    "    try:\n",
    "        result = a/ b\n",
    "    except ZeroDivisionError:\n",
    "        print(\"Error: Cannot divide by zero!\")\n",
    "    else:\n",
    "        print(\"The division result is:\", result)"
   ]
  },
  {
   "cell_type": "markdown",
   "id": "2b0ed1fc",
   "metadata": {},
   "source": [
    "In this example, the divide_numbers() function attempts to perform division between two numbers a and b. If the division operation raises a ZeroDivisionError exception, the code inside the 'except' block is executed, printing an error message. However, if no exception occurs, the 'else' block is executed, printing the division result.\n",
    "\n",
    "The 'else' block is useful in scenarios where you want to perform additional operations or provide specific feedback when the code within the 'try' block executes successfully without raising any exceptions. By separating the error handling code in the 'except' block from the normal execution code in the 'else' block, you can have a clearer and more structured approach to handling exceptions."
   ]
  },
  {
   "cell_type": "markdown",
   "id": "125d4418",
   "metadata": {},
   "source": [
    "2. Can a try-except block be nested inside another try-except block? Explain with an example.\n",
    "A.Yes, a try-except block can indeed be nested inside another try-except block. This is known as nested exception handling. It allows for a more granular and specific handling of exceptions in different parts of the code. Here's an example to illustrate this concept:"
   ]
  },
  {
   "cell_type": "code",
   "execution_count": 15,
   "id": "0df02158",
   "metadata": {},
   "outputs": [
    {
     "ename": "NameError",
     "evalue": "name 'b' is not defined",
     "output_type": "error",
     "traceback": [
      "\u001b[1;31m---------------------------------------------------------------------------\u001b[0m",
      "\u001b[1;31mNameError\u001b[0m                                 Traceback (most recent call last)",
      "Cell \u001b[1;32mIn[15], line 10\u001b[0m\n\u001b[0;32m      7\u001b[0m     \u001b[38;5;28;01mexcept\u001b[39;00m \u001b[38;5;167;01mTypeError\u001b[39;00m:\n\u001b[0;32m      8\u001b[0m         \u001b[38;5;28mprint\u001b[39m(\u001b[38;5;124m\"\u001b[39m\u001b[38;5;124mError: Invalid operand types!\u001b[39m\u001b[38;5;124m\"\u001b[39m)\n\u001b[1;32m---> 10\u001b[0m divide_numbers(\u001b[38;5;241m10\u001b[39m,\u001b[43mb\u001b[49m)\n",
      "\u001b[1;31mNameError\u001b[0m: name 'b' is not defined"
     ]
    }
   ],
   "source": [
    "def divide_numbers(a, b):\n",
    "    try:\n",
    "        try:\n",
    "            result = a / b\n",
    "        except ZeroDivisionError:\n",
    "            print(\"Error: Cannot divide by zero!\")\n",
    "    except TypeError:\n",
    "        print(\"Error: Invalid operand types!\")\n",
    "\n",
    "divide_numbers(10,b)\n"
   ]
  },
  {
   "cell_type": "markdown",
   "id": "78e2b537",
   "metadata": {},
   "source": [
    "In this example, the divide_numbers() function has a nested try-except block. The inner try-except block attempts to perform division between two numbers a and b. If a ZeroDivisionError is raised due to dividing by zero, the code inside the inner 'except' block is executed, and the error message \"Error: Cannot divide by zero!\" is printed.\n",
    "\n",
    "However, if a TypeError occurs during the division operation, such as when one or both operands are not numeric, the inner 'try' block itself raises an exception. In this case, the outer try-except block handles the exception. The code inside the outer 'except' block is executed, printing the error message \"Error: Invalid operand types!\"\n",
    "\n",
    "Nesting try-except blocks allows you to handle different types of exceptions at different levels of your code, providing more fine-grained error handling. The outer try-except block can handle broader exceptions, while the inner try-except block can handle more specific exceptions related to a particular operation or block of code."
   ]
  },
  {
   "cell_type": "markdown",
   "id": "21372b7d",
   "metadata": {},
   "source": [
    "3. How can you create a custom exception class in Python? Provide an example that demonstrates its usage.\n",
    "A.To create a custom exception class in Python, you can define a new class that inherits from the built-in Exception class or any of its subclasses. This allows you to define your own custom exception with specific attributes and behaviors. Here's an example that demonstrates the creation and usage of a custom exception class:"
   ]
  },
  {
   "cell_type": "code",
   "execution_count": 16,
   "id": "9cf8ee3d",
   "metadata": {},
   "outputs": [
    {
     "name": "stdout",
     "output_type": "stream",
     "text": [
      "CustomException: Invalid data provided. (Error Code: 500)\n"
     ]
    }
   ],
   "source": [
    "class CustomException(Exception):\n",
    "    def __init__(self, message, error_code):\n",
    "        self.message = message\n",
    "        self.error_code = error_code\n",
    "\n",
    "    def __str__(self):\n",
    "        return f\"CustomException: {self.message} (Error Code: {self.error_code})\"\n",
    "\n",
    "def process_data(data):\n",
    "    if not data:\n",
    "        raise CustomException(\"Invalid data provided.\", 500)\n",
    "    # Process the data here\n",
    "\n",
    "#Usage example\n",
    "try:\n",
    "    data = None\n",
    "    process_data(data)\n",
    "except CustomException as e:\n",
    "    print(e)\n",
    "    # Additional error handling logic based on the custom exception\n",
    "    "
   ]
  },
  {
   "cell_type": "markdown",
   "id": "a42e7679",
   "metadata": {},
   "source": [
    "In this example, a custom exception class CustomException is defined by inheriting from the Exception class. The CustomException class has two attributes: message and error_code. The __init__ method is used to initialize these attributes when an instance of the custom exception is created. The __str__ method is overridden to provide a custom string representation of the exception when it is printed.\n",
    "\n",
    "The process_data() function represents a hypothetical data processing function. If the provided data is empty or invalid, it raises a CustomException with a specific error message and error code.\n",
    "\n",
    "In the usage example, a try-except block is used to catch the CustomException if it is raised during the execution of process_data(). The caught exception is then printed, allowing you to access the custom attributes of the exception (message and error_code) and perform additional error handling logic based on the specific exception type.\n",
    "\n",
    "By creating custom exception classes, you can define your own exception hierarchy and provide more meaningful and specific error messages for different exceptional scenarios in your code."
   ]
  },
  {
   "cell_type": "markdown",
   "id": "7ec6407f",
   "metadata": {},
   "source": [
    "4. What are some common exceptions that are built-in to Python?\n",
    "A.Python provides several built-in exceptions that cover a wide range of common error conditions.\n",
    "\n",
    "Here are some of the most commonly used built-in exceptions in Python:\n",
    "\n",
    "1.Exception: The base class for all exceptions in Python.\n",
    "2.SyntaxError: Raised when there is a syntax error in the code.\n",
    "3.TypeError: Raised when an operation or function is performed on an object of an inappropriate type.\n",
    "4.NameError: Raised when a local or global name is not found.\n",
    "5.IndexError: Raised when an index is out of range.\n",
    "6.ValueError: Raised when a function receives an argument of the correct type but an inappropriate value.\n",
    "7.KeyError: Raised when a dictionary key is not found.\n",
    "8.FileNotFoundError: Raised when a file or directory is requested but cannot be found.\n",
    "9.ZeroDivisionError: Raised when division or modulo operation is performed with zero as the divisor.\n",
    "10.AssertionError: Raised when an assert statement fails.\n",
    "\n",
    "These are just a few examples of the built-in exceptions available in Python. Each exception has its specific purpose and is used to handle different types of errors or exceptional conditions that may occur during program execution. It's important to understand these exceptions to effectively handle errors and exceptions in your Python code. You can refer to the Python documentation for a comprehensive list of all built-in exceptions and their descriptions."
   ]
  },
  {
   "cell_type": "markdown",
   "id": "34525951",
   "metadata": {},
   "source": [
    "5. What is logging in Python, and why is it important in software development?\n",
    "A.Logging in Python refers to the process of recording and storing log messages generated during the execution of a program. The 'logging' module in Python provides a flexible and efficient framework for generating log messages at various levels of severity, such as DEBUG, INFO, WARNING, ERROR, and CRITICAL.\n",
    "\n",
    "Logging is crucial in software development for the following reasons:\n",
    "\n",
    "1.Debugging and Troubleshooting: Logging allows developers to capture relevant information about the program's execution, including error messages, stack traces, variable values, and other contextual details. These logs help in identifying and debugging issues during development and troubleshooting problems in production environments.\n",
    "\n",
    "2.Error Tracking and Monitoring: By logging errors and exceptions, developers can track and monitor the health of their software applications. Log messages can be collected and analyzed, allowing early detection of errors, identification of recurring issues, and proactive resolution.\n",
    "\n",
    "3.Auditing and Compliance: Logging is important for auditing and compliance purposes. It provides an audit trail of important events, user actions, or system activities. These logs can be used to investigate security breaches, analyze user behavior, or ensure compliance with regulatory requirements.\n",
    "\n",
    "4.Performance Analysis: Logging can be used to measure and analyze the performance of software applications. By logging timestamps, execution times, and other relevant metrics, developers can identify bottlenecks, optimize code, and improve overall performance.\n",
    "\n",
    "5.Communication and Collaboration: Logs serve as a means of communication and collaboration among developers, operations teams, and stakeholders. They provide a shared understanding of the system's behavior, facilitate discussions around issues, and aid in collaboration between different teams involved in the software development lifecycle.\n",
    "\n",
    "Overall, logging plays a vital role in software development by providing valuable insights into the behavior of the application, aiding in debugging, troubleshooting, error tracking, performance analysis, and facilitating effective communication and collaboration among development teams. It helps improve the reliability, maintainability, and overall quality of software systems."
   ]
  },
  {
   "cell_type": "markdown",
   "id": "9bb067e5",
   "metadata": {},
   "source": [
    "6. Explain the purpose of log levels in Python logging and provide examples of when each log level would be appropriate.\n",
    "A.In Python logging, log levels are used to categorize log messages based on their severity or importance. The logging module in Python provides several predefined log levels, including DEBUG, INFO, WARNING, ERROR, and CRITICAL. Each log level serves a specific purpose and is appropriate for different scenarios. Here's an explanation of each log level and examples of when they would be appropriate:\n",
    "\n",
    "1.DEBUG: This log level is used for detailed information that is primarily useful for debugging purposes. It provides the most verbose level of logging, typically used during development or when troubleshooting specific issues. Example usage: Logging variable values, function entry/exit points, or detailed diagnostic information.\n",
    "\n",
    "2.INFO: The INFO log level is used to convey general information about the application's execution. It provides high-level details that can help understand the flow of the program. Example usage: Logging major application milestones, successful operations, or significant configuration changes.\n",
    "\n",
    "3.WARNING: The WARNING log level indicates potential issues or unexpected behavior that does not prevent the application from functioning but should be addressed. Warnings highlight situations that may lead to errors or cause undesired outcomes. Example usage: Logging deprecated feature usage, non-critical configuration issues, or unexpected input values.\n",
    "\n",
    "4.ERROR: This log level represents errors that occur during the application's execution. It indicates significant issues that might affect the correct functioning of the program. Example usage: Logging exceptions, failed operations, or any critical error that requires attention.\n",
    "\n",
    "5.CRITICAL: The CRITICAL log level is the highest severity level, indicating critical errors that may lead to the termination or severe malfunctioning of the application. These messages typically require immediate attention. Example usage: Logging unrecoverable errors, system failures, or security breaches.\n",
    "\n",
    "Log levels allow developers to control the verbosity of log messages. By setting the log level appropriately, you can filter out less important messages and focus on the ones that are relevant for a given situation. For example, during development, you might set the log level to DEBUG to see detailed information. In production, you may choose a higher log level, such as ERROR or CRITICAL, to capture only critical errors that require immediate attention, reducing the volume of log data.\n",
    "\n",
    "It's worth noting that log levels can be configured globally or for individual loggers, providing flexibility in capturing and filtering log messages based on their severity levels."
   ]
  },
  {
   "cell_type": "markdown",
   "id": "7c168c3f",
   "metadata": {},
   "source": [
    "7. What are log formatters in Python logging, and how can you customise the log message format using formatters?\n",
    "A.In Python logging, log formatters are used to define the format of log messages that are emitted by the logging system. Log formatters determine how the log messages are structured and what information is included in each message, such as timestamps, log levels, module names, or custom details.\n",
    "\n",
    "The 'logging'module provides the Formatter class that can be used to customize log message formats. Here's an overview of how you can customize log message formats using formatters:\n",
    "\n",
    "1.Create a Formatter instance: Start by creating an instance of the Formatter class, optionally passing a format string as a parameter. The format string specifies the desired log message format and can include placeholders for various attributes.\n",
    "\n",
    "2.Configure a Handler: Associate the formatter with a logging handler by creating an instance of the handler (e.g., StreamHandler, FileHandler) and setting the formatter using the setFormatter() method. This associates the formatter with the handler and determines the log message format for that handler.\n",
    "\n",
    "3.Set the Handler for a Logger: Attach the handler to a logger object using the addHandler() method. This assigns the handler to the logger, and the configured formatter will be used for formatting log messages emitted by that logger.\n",
    "\n",
    "4.Customize the Format String: Customize the format string by including placeholders, which are specified within curly braces {}. These placeholders represent attributes such as timestamp, log level, module name, message, or custom attributes.\n",
    "\n",
    "Here's an example that demonstrates customizing the log message format using a formatter:"
   ]
  },
  {
   "cell_type": "code",
   "execution_count": 17,
   "id": "3097ab3a",
   "metadata": {},
   "outputs": [
    {
     "name": "stderr",
     "output_type": "stream",
     "text": [
      "2023-06-30 21:21:40,153 - WARNING - This is a warning message\n"
     ]
    }
   ],
   "source": [
    "import logging\n",
    "\n",
    "# Create a Formatter instance with a custom format\n",
    "formatter = logging.Formatter('%(asctime)s - %(levelname)s - %(message)s')\n",
    "\n",
    "# Create a StreamHandler and associate the formatter\n",
    "handler = logging.StreamHandler()\n",
    "handler.setFormatter(formatter)\n",
    "\n",
    "# Create a Logger and attach the handler\n",
    "logger = logging.getLogger('my_logger')\n",
    "logger.addHandler(handler)\n",
    "\n",
    "# Log messages using the custom format\n",
    "logger.info('This is an informational message')\n",
    "logger.warning('This is a warning message')\n"
   ]
  },
  {
   "cell_type": "markdown",
   "id": "1b18f13e",
   "metadata": {},
   "source": [
    "In this example, a custom log message format is defined using the Formatter class. The format string '%(asctime)s - %(levelname)s - %(message)s' specifies that the log messages should include the timestamp, log level, and the actual message. Then, a StreamHandler is created and associated with the formatter. The handler is attached to a logger named 'my_logger'. Finally, log messages are emitted using the custom format by calling the appropriate log methods (info, warning).\n",
    "\n",
    "By customizing the format string in the formatter, you can include or exclude specific attributes, rearrange the order of information, or add custom details to suit your logging requirements."
   ]
  },
  {
   "cell_type": "markdown",
   "id": "7ca3c192",
   "metadata": {},
   "source": [
    "8. How can you set up logging to capture log messages from multiple modules or classes in a Python application?\n",
    "A.To capture log messages from multiple modules or classes in a Python application, you can set up logging with a hierarchical logger hierarchy. The logger hierarchy allows you to organize loggers based on their names and create a hierarchical structure that mirrors the structure of your application.\n",
    "\n",
    "Here's how you can set up logging to capture log messages from multiple modules or classes:\n",
    "\n",
    "1.Create Loggers: Create logger instances for each module or class that you want to capture log messages from. Use the logging.getLogger() method and provide a unique name for each logger. The logger names can follow a hierarchical naming convention using dot notation to represent the module or class structure.\n",
    "\n",
    "2.Configure Handlers: Configure logging handlers for each logger. Handlers determine where the log messages will be output, such as the console, files, or external services. Set the handlers using the addHandler() method on each logger.\n",
    "\n",
    "3.Set Log Levels: Optionally, set the log levels for each logger to control the verbosity of log messages emitted by each module or class. You can use the setLevel() method on the loggers to specify the desired log level.\n",
    "\n",
    "4.Emit Log Messages: Use the appropriate log methods (debug(), info(), warning(), etc.) provided by the logger instances to emit log messages from each module or class. The log messages will be captured and processed by the configured handlers.\n",
    "\n",
    "Here's an example that demonstrates capturing log messages from multiple modules using hierarchical loggers:"
   ]
  },
  {
   "cell_type": "code",
   "execution_count": 18,
   "id": "c2f2a8b9",
   "metadata": {},
   "outputs": [
    {
     "name": "stderr",
     "output_type": "stream",
     "text": [
      "This is a message from module1\n",
      "INFO:module1:This is a message from module1\n",
      "DEBUG:module2:This is a debug message from module2\n"
     ]
    }
   ],
   "source": [
    "import logging\n",
    "\n",
    "# Configure the root logger (optional)\n",
    "logging.basicConfig(level=logging.DEBUG)\n",
    "\n",
    "# Create loggers for specific modules or classes\n",
    "logger1 = logging.getLogger('module1')\n",
    "logger2 = logging.getLogger('module2')\n",
    "\n",
    "# Configure handlers for each logger\n",
    "handler1 = logging.StreamHandler()\n",
    "handler2 = logging.FileHandler('module2.log')\n",
    "logger1.addHandler(handler1)\n",
    "logger2.addHandler(handler2)\n",
    "\n",
    "# Set log levels (optional)\n",
    "logger1.setLevel(logging.INFO)\n",
    "logger2.setLevel(logging.DEBUG)\n",
    "\n",
    "# Emit log messages from different modules\n",
    "logger1.info('This is a message from module1')\n",
    "logger2.debug('This is a debug message from module2')\n"
   ]
  },
  {
   "cell_type": "markdown",
   "id": "23e043a7",
   "metadata": {},
   "source": [
    "In this example, two loggers, logger1 and logger2, are created for two different modules, 'module1' and 'module2', respectively. Handlers (handler1 and handler2) are configured for each logger, specifying where the log messages should be output. Log levels are optionally set for each logger to control the verbosity of log messages.\n",
    "\n",
    "By organizing loggers in a hierarchical manner and associating handlers with specific loggers, you can capture and handle log messages separately for each module or class in your Python application."
   ]
  },
  {
   "cell_type": "markdown",
   "id": "e840723f",
   "metadata": {},
   "source": [
    "9. What is the difference between the logging and print statements in Python? When should you use logging over print statements in a real-world application?\n",
    "A.The logging and print statements in Python serve different purposes and have distinct characteristics. Here are the key differences between logging and print statements:\n",
    "\n",
    "1.Output Destination: The print statement directs output to the standard output (usually the console), whereas the logging module allows you to configure multiple output destinations such as the console, files, network services, or custom handlers.\n",
    "\n",
    "2.Level of Detail: print statements are typically used for general debugging or displaying specific values during development. Logging, on the other hand, allows you to log messages at different levels of severity (DEBUG, INFO, WARNING, ERROR, CRITICAL), providing a more structured and flexible approach to capturing information, warnings, errors, and critical events.\n",
    "\n",
    "3.Configurability: The logging module provides extensive configuration options to control the behavior and formatting of log messages. You can customize log formats, specify log levels, define different handlers for different situations, and enable or disable logging in specific parts of the code. In contrast, print statements are more straightforward and offer limited configuration options.\n",
    "\n",
    "4.Runtime Impact: While print statements are executed unconditionally whenever encountered in the code, logging statements can be controlled dynamically at runtime. You can enable or disable logging or adjust the log level without modifying the code, making it useful for debugging or troubleshooting in production environments.\n",
    "\n",
    "When to use logging over print statements in a real-world application:\n",
    "\n",
    "# Debugging and Troubleshooting: \n",
    "Logging is more appropriate for debugging and troubleshooting scenarios where you need to capture specific information, track the flow of execution, and identify issues. It allows you to add context, timestamps, and differentiate between various log levels to provide more comprehensive information for analysis.\n",
    "\n",
    "# Production Environments: \n",
    "In real-world applications running in production, print statements are not suitable as they can clutter the console output and may expose sensitive information. Logging, with its configurable log levels and output destinations, allows you to selectively capture relevant information while maintaining clean and secure console output.\n",
    "\n",
    "# Error Handling and Monitoring: \n",
    "Logging is essential for proper error handling, capturing exceptions, and monitoring the health of the application. It provides a centralized mechanism to collect and analyze log messages, allowing you to track errors, investigate issues, and monitor system behavior in production environments.\n",
    "\n",
    "# Long-term Maintenance:\n",
    "Logging is more maintainable in the long run, especially for larger applications or projects with multiple developers. It provides a standardized way to log messages, facilitates collaboration among team members, and enables better traceability of issues over time.\n",
    "\n",
    "While 'print' statements are quick and straightforward for ad hoc debugging during development, logging offers a more sophisticated and flexible approach to capturing and managing log messages in real-world applications, making it a better choice for robustness, configurability, and scalability."
   ]
  },
  {
   "cell_type": "markdown",
   "id": "69a388ef",
   "metadata": {},
   "source": [
    "10. Write a Python program that logs a message to a file named \"app.log\" with the\n",
    "following requirements:\n",
    "● The log message should be \"Hello, World!\"\n",
    "● The log level should be set to \"INFO.\"\n",
    "● The log file should append new log entries without overwriting previous ones.\n",
    "\n",
    "A.Certainly! Here's a Python program that logs a message to a file named \"app.log\" using the logging module with the specified requirements:"
   ]
  },
  {
   "cell_type": "code",
   "execution_count": 20,
   "id": "ed5ee051",
   "metadata": {},
   "outputs": [
    {
     "name": "stderr",
     "output_type": "stream",
     "text": [
      "INFO:root:Hello, World!\n"
     ]
    }
   ],
   "source": [
    "import logging\n",
    "\n",
    "# Configure logging\n",
    "logging.basicConfig(filename='app.log', level=logging.INFO, filemode='a')\n",
    "\n",
    "# Log the message\n",
    "logging.info('Hello, World!')"
   ]
  },
  {
   "cell_type": "markdown",
   "id": "974a5029",
   "metadata": {},
   "source": [
    "In this program:\n",
    "\n",
    "1.The logging module is imported.\n",
    "\n",
    "2.The basicConfig() function is used to configure logging. We provide the following arguments:\n",
    "\n",
    ":filename='app.log' specifies the name of the log file.\n",
    ":level=logging.INFO sets the log level to INFO.\n",
    ":filemode='a' specifies that new log entries should be appended to the file without overwriting previous ones.\n",
    "\n",
    "3.The logging.info() method is used to log the message \"Hello, World!\" with the specified log level.\n",
    "\n",
    "When you run this program, it will create a file named \"app.log\" if it doesn't exist already and append the log entry \"Hello, World!\" to the file without overwriting any previous log entries. Subsequent runs of the program will continue appending new log messages to the same file.\n",
    "\n",
    "we have write permissions in the directory where the program is executed in order to create and write to the log file."
   ]
  },
  {
   "cell_type": "markdown",
   "id": "7955670c",
   "metadata": {},
   "source": [
    "11. Create a Python program that logs an error message to the console and a file named  \"errors.log\" if an exception occurs during the program's execution. The error message should include the exception type and a timestamp.\n",
    "A.Certainly! Here's a Python program that logs an error message to the console and a file named \"errors.log\" if an exception occurs during the program's execution. The error message includes the exception type and a timestamp:"
   ]
  },
  {
   "cell_type": "code",
   "execution_count": 21,
   "id": "1c224f07",
   "metadata": {},
   "outputs": [
    {
     "name": "stderr",
     "output_type": "stream",
     "text": [
      "2023-06-30 21:36:06,023 - ERROR - Exception type: ZeroDivisionError, Timestamp: 2023-06-30 21:36:06\n",
      "ERROR:error_logger:Exception type: ZeroDivisionError, Timestamp: 2023-06-30 21:36:06\n"
     ]
    }
   ],
   "source": [
    "import logging\n",
    "import datetime\n",
    "\n",
    "# Configure logging\n",
    "logging.basicConfig(level=logging.ERROR)\n",
    "\n",
    "# Create a file handler to log errors to a file\n",
    "file_handler = logging.FileHandler('errors.log')\n",
    "file_handler.setLevel(logging.ERROR)\n",
    "\n",
    "# Create a console handler to log errors to the console\n",
    "console_handler = logging.StreamHandler()\n",
    "console_handler.setLevel(logging.ERROR)\n",
    "\n",
    "# Create a formatter\n",
    "formatter = logging.Formatter('%(asctime)s - %(levelname)s - %(message)s')\n",
    "\n",
    "# Set the formatter for both handlers\n",
    "file_handler.setFormatter(formatter)\n",
    "console_handler.setFormatter(formatter)\n",
    "\n",
    "# Create a logger and add the handlers\n",
    "logger = logging.getLogger('error_logger')\n",
    "logger.addHandler(file_handler)\n",
    "logger.addHandler(console_handler)\n",
    "\n",
    "try:\n",
    "    # Code that may raise an exception\n",
    "    result = 10 / 0  # Example division by zero to trigger an exception\n",
    "\n",
    "except Exception as e:\n",
    "    # Log the exception\n",
    "    timestamp = datetime.datetime.now().strftime('%Y-%m-%d %H:%M:%S')\n",
    "    error_message = f\"Exception type: {type(e).__name__}, Timestamp: {timestamp}\"\n",
    "    logger.error(error_message)\n"
   ]
  },
  {
   "cell_type": "markdown",
   "id": "a9c33aa0",
   "metadata": {},
   "source": [
    "In this program:\n",
    "\n",
    "1.The logging module is imported.\n",
    "\n",
    "2.Logging is configured with a default log level of ERROR using basicConfig().\n",
    "\n",
    "3.Two handlers are created: a FileHandler named file_handler and a StreamHandler named console_handler. They are both set to the log level ERROR.\n",
    "\n",
    "4.A formatter is created to specify the desired format of the log message. In this case, it includes the timestamp, log level, and message.\n",
    "\n",
    "5.The formatter is set for both the file handler and console handler.\n",
    "\n",
    "6.A logger named 'error_logger' is created using getLogger().\n",
    "\n",
    "7.The file handler and console handler are added to the logger.\n",
    "\n",
    "8.Inside the try block, an example code that may raise an exception is provided. In this case, a division by zero is used to trigger a ZeroDivisionError exception.\n",
    "\n",
    "9.If an exception occurs, the exception type and a timestamp are logged using the logger's error() method, which logs the message at the ERROR level.\n",
    "\n",
    "When we run this program and an exception occurs, it will log an error message to the console and append the error message with the exception type and timestamp to the \"errors.log\" file."
   ]
  }
 ],
 "metadata": {
  "kernelspec": {
   "display_name": "Python 3 (ipykernel)",
   "language": "python",
   "name": "python3"
  },
  "language_info": {
   "codemirror_mode": {
    "name": "ipython",
    "version": 3
   },
   "file_extension": ".py",
   "mimetype": "text/x-python",
   "name": "python",
   "nbconvert_exporter": "python",
   "pygments_lexer": "ipython3",
   "version": "3.10.9"
  }
 },
 "nbformat": 4,
 "nbformat_minor": 5
}
